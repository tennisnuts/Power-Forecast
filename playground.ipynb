{
 "cells": [
  {
   "cell_type": "code",
   "execution_count": 15,
   "metadata": {},
   "outputs": [],
   "source": [
    "# install libraries\n",
    "import influxdb_client\n",
    "import pandas as pd\n",
    "import secret\n",
    "import data_functions"
   ]
  },
  {
   "cell_type": "code",
   "execution_count": 17,
   "metadata": {},
   "outputs": [
    {
     "data": {
      "text/html": [
       "<div>\n",
       "<style scoped>\n",
       "    .dataframe tbody tr th:only-of-type {\n",
       "        vertical-align: middle;\n",
       "    }\n",
       "\n",
       "    .dataframe tbody tr th {\n",
       "        vertical-align: top;\n",
       "    }\n",
       "\n",
       "    .dataframe thead th {\n",
       "        text-align: right;\n",
       "    }\n",
       "</style>\n",
       "<table border=\"1\" class=\"dataframe\">\n",
       "  <thead>\n",
       "    <tr style=\"text-align: right;\">\n",
       "      <th></th>\n",
       "      <th>power</th>\n",
       "    </tr>\n",
       "    <tr>\n",
       "      <th>datetime</th>\n",
       "      <th></th>\n",
       "    </tr>\n",
       "  </thead>\n",
       "  <tbody>\n",
       "    <tr>\n",
       "      <th>2023-12-15 17:28:12+00:00</th>\n",
       "      <td>0.083560</td>\n",
       "    </tr>\n",
       "    <tr>\n",
       "      <th>2023-12-15 17:28:13+00:00</th>\n",
       "      <td>0.083172</td>\n",
       "    </tr>\n",
       "    <tr>\n",
       "      <th>2023-12-15 17:28:14+00:00</th>\n",
       "      <td>0.083285</td>\n",
       "    </tr>\n",
       "    <tr>\n",
       "      <th>2023-12-15 17:28:15+00:00</th>\n",
       "      <td>0.083787</td>\n",
       "    </tr>\n",
       "    <tr>\n",
       "      <th>2023-12-15 17:28:16+00:00</th>\n",
       "      <td>0.082737</td>\n",
       "    </tr>\n",
       "    <tr>\n",
       "      <th>...</th>\n",
       "      <td>...</td>\n",
       "    </tr>\n",
       "    <tr>\n",
       "      <th>2023-12-15 17:38:06+00:00</th>\n",
       "      <td>0.081573</td>\n",
       "    </tr>\n",
       "    <tr>\n",
       "      <th>2023-12-15 17:38:07+00:00</th>\n",
       "      <td>0.083275</td>\n",
       "    </tr>\n",
       "    <tr>\n",
       "      <th>2023-12-15 17:38:08+00:00</th>\n",
       "      <td>0.083127</td>\n",
       "    </tr>\n",
       "    <tr>\n",
       "      <th>2023-12-15 17:38:09+00:00</th>\n",
       "      <td>0.081786</td>\n",
       "    </tr>\n",
       "    <tr>\n",
       "      <th>2023-12-15 17:38:10+00:00</th>\n",
       "      <td>0.083197</td>\n",
       "    </tr>\n",
       "  </tbody>\n",
       "</table>\n",
       "<p>596 rows × 1 columns</p>\n",
       "</div>"
      ],
      "text/plain": [
       "                              power\n",
       "datetime                           \n",
       "2023-12-15 17:28:12+00:00  0.083560\n",
       "2023-12-15 17:28:13+00:00  0.083172\n",
       "2023-12-15 17:28:14+00:00  0.083285\n",
       "2023-12-15 17:28:15+00:00  0.083787\n",
       "2023-12-15 17:28:16+00:00  0.082737\n",
       "...                             ...\n",
       "2023-12-15 17:38:06+00:00  0.081573\n",
       "2023-12-15 17:38:07+00:00  0.083275\n",
       "2023-12-15 17:38:08+00:00  0.083127\n",
       "2023-12-15 17:38:09+00:00  0.081786\n",
       "2023-12-15 17:38:10+00:00  0.083197\n",
       "\n",
       "[596 rows x 1 columns]"
      ]
     },
     "execution_count": 17,
     "metadata": {},
     "output_type": "execute_result"
    }
   ],
   "source": [
    "generation_df, consumption_df = data_functions.get_sensor_data('10m')\n",
    "generation_df"
   ]
  },
  {
   "cell_type": "code",
   "execution_count": null,
   "metadata": {},
   "outputs": [],
   "source": []
  }
 ],
 "metadata": {
  "kernelspec": {
   "display_name": ".venv",
   "language": "python",
   "name": "python3"
  },
  "language_info": {
   "codemirror_mode": {
    "name": "ipython",
    "version": 3
   },
   "file_extension": ".py",
   "mimetype": "text/x-python",
   "name": "python",
   "nbconvert_exporter": "python",
   "pygments_lexer": "ipython3",
   "version": "3.11.1"
  }
 },
 "nbformat": 4,
 "nbformat_minor": 2
}
