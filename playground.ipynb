{
 "cells": [
  {
   "cell_type": "code",
   "execution_count": 2,
   "metadata": {},
   "outputs": [],
   "source": [
    "# install libraries\n",
    "import influxdb_client\n",
    "import pandas as pd\n",
    "import secret"
   ]
  },
  {
   "cell_type": "code",
   "execution_count": 3,
   "metadata": {},
   "outputs": [
    {
     "name": "stdout",
     "output_type": "stream",
     "text": [
      "[('value', 3.325357), ('value', 3.252319), ('value', 3.333591), ('value', 3.265402), ('value', 3.319153), ('value', 3.2784), ('value', 3.307606), ('value', 3.290919), ('value', 3.301646), ('value', 3.308112), ('value', 3.282965), ('value', 3.324476), ('value', 3.276978), ('value', 3.325152), ('value', 3.262301), ('value', 3.31837), ('value', 3.255982), ('value', 3.317088), ('value', 3.248441), ('value', 3.321384), ('value', 3.244683), ('value', 3.322323), ('value', 3.236502), ('value', 3.333812), ('value', 3.234127), ('value', 3.328216), ('value', 3.234948), ('value', 3.32733), ('value', 3.244745), ('value', 3.311259), ('value', 3.266894), ('value', 3.281998), ('value', 3.304215), ('value', 3.259813), ('value', 3.328218), ('value', 3.241921), ('value', 4.011397), ('value', 4.134586), ('value', 4.232809), ('value', 4.167645), ('value', 4.189505), ('value', 4.1982), ('value', 4.156235), ('value', 4.225678), ('value', 4.13647), ('value', 4.243755), ('value', 4.123164), ('value', 4.24836), ('value', 4.126273), ('value', 3.653892), ('value', 3.245805), ('value', 3.299391), ('value', 3.265911), ('value', 3.28745), ('value', 3.293645), ('value', 3.260305), ('value', 3.296884), ('value', 3.253724), ('value', 3.320542), ('value', 3.241198), ('value', 3.33264), ('value', 3.232701), ('value', 3.332929), ('value', 3.242533), ('value', 3.31541), ('value', 3.254452), ('value', 3.300003), ('value', 3.25962), ('value', 3.296975), ('value', 3.26577), ('value', 3.289329), ('value', 3.266276), ('value', 3.291434), ('value', 3.267053), ('value', 3.294196), ('value', 3.268905), ('value', 3.296324), ('value', 3.261655), ('value', 3.301411), ('value', 3.255818), ('value', 3.319267), ('value', 3.23916), ('value', 3.330405), ('value', 3.24258), ('value', 3.317122), ('value', 3.264784), ('value', 3.286434), ('value', 3.297984), ('value', 3.257489), ('value', 3.319285), ('value', 3.233606), ('value', 3.327729), ('value', 3.249742), ('value', 3.316946), ('value', 3.283445), ('value', 3.284176), ('value', 3.314639), ('value', 3.246055), ('value', 3.3294), ('value', 3.235311), ('value', 3.325973), ('value', 3.240555), ('value', 3.313506), ('value', 3.254274), ('value', 3.291548), ('value', 3.266918), ('value', 3.795827), ('value', 4.197581), ('value', 4.176265), ('value', 4.202894), ('value', 4.161442), ('value', 4.217371), ('value', 4.161035), ('value', 4.216703), ('value', 4.149538), ('value', 4.218676), ('value', 4.134238), ('value', 4.24173), ('value', 4.128477), ('value', 4.236001), ('value', 4.128416), ('value', 4.241539), ('value', 4.132472), ('value', 4.245398), ('value', 4.122717), ('value', 4.249174), ('value', 4.115667), ('value', 4.236735), ('value', 4.12363), ('value', 4.232929), ('value', 4.143237), ('value', 4.217391), ('value', 4.160635), ('value', 4.191856), ('value', 4.179129), ('value', 4.178771), ('value', 4.189716), ('value', 4.165927), ('value', 4.205977), ('value', 4.150521), ('value', 4.223765), ('value', 4.133748), ('value', 4.230092), ('value', 4.12535), ('value', 4.238475), ('value', 4.115409), ('value', 4.240507), ('value', 4.116707), ('value', 4.236439), ('value', 4.111403), ('value', 4.23396), ('value', 4.120177), ('value', 4.24009), ('value', 4.137478), ('value', 4.227663), ('value', 4.145439), ('value', 4.189987), ('value', 4.174855), ('value', 4.149348), ('value', 4.207354), ('value', 4.113796), ('value', 4.22592), ('value', 4.112651), ('value', 4.21219), ('value', 4.139627), ('value', 4.173196), ('value', 4.190518), ('value', 4.133286), ('value', 4.22158), ('value', 4.111226), ('value', 4.229003), ('value', 4.109508), ('value', 4.228928), ('value', 4.130063), ('value', 4.202868), ('value', 4.158866), ('value', 4.163124), ('value', 4.197767), ('value', 4.12847), ('value', 4.218433), ('value', 4.109541), ('value', 4.205001), ('value', 4.100146), ('value', 4.173807), ('value', 4.125732), ('value', 4.134828), ('value', 4.170486), ('value', 4.093915), ('value', 4.19715), ('value', 4.090384), ('value', 4.163812), ('value', 4.148687), ('value', 4.107141), ('value', 4.198209), ('value', 4.09184), ('value', 4.171476), ('value', 4.148928), ('value', 4.101123), ('value', 4.197335), ('value', 3.991733), ('value', 3.251059), ('value', 3.235217), ('value', 3.211159), ('value', 3.275366), ('value', 3.188892), ('value', 3.26479), ('value', 3.214705), ('value', 3.234824), ('value', 3.252071), ('value', 3.193216), ('value', 3.276382), ('value', 3.207549), ('value', 3.283741), ('value', 3.262098), ('value', 3.307176), ('value', 3.293129), ('value', 3.254506), ('value', 3.308895), ('value', 3.237402), ('value', 3.320759), ('value', 3.227908), ('value', 3.323173), ('value', 3.239448), ('value', 3.307851), ('value', 3.251088), ('value', 3.278603), ('value', 3.284256), ('value', 3.250654), ('value', 3.304361), ('value', 3.233344), ('value', 3.319378), ('value', 3.227014), ('value', 3.311894), ('value', 3.253229), ('value', 3.267972), ('value', 3.306809), ('value', 3.286139), ('value', 3.234466), ('value', 3.312133), ('value', 3.249885), ('value', 3.265065), ('value', 3.307831), ('value', 3.243227), ('value', 3.290409), ('value', 3.284397), ('value', 3.238417), ('value', 3.312659), ('value', 3.257237), ('value', 3.264993), ('value', 3.308134), ('value', 3.22882), ('value', 3.314589), ('value', 3.24486), ('value', 3.284419), ('value', 3.281706), ('value', 3.246937), ('value', 3.384638), ('value', 4.122314), ('value', 4.231694), ('value', 4.151198), ('value', 4.167671), ('value', 4.21915), ('value', 4.127161), ('value', 4.22475), ('value', 4.171854), ('value', 4.148886), ('value', 4.228903), ('value', 4.125335), ('value', 4.20198), ('value', 4.182009), ('value', 4.132751), ('value', 4.237383), ('value', 4.099144), ('value', 4.11769), ('value', 4.161074), ('value', 4.062237), ('value', 4.165076), ('value', 4.104884), ('value', 4.106689), ('value', 4.156095), ('value', 4.063179), ('value', 4.170266), ('value', 4.080688), ('value', 4.131429), ('value', 4.136094), ('value', 4.076257), ('value', 4.174269), ('value', 4.061677), ('value', 4.155286), ('value', 4.078267), ('value', 4.119155), ('value', 4.126856), ('value', 4.093068), ('value', 4.146772), ('value', 4.074199), ('value', 4.160719), ('value', 4.069099), ('value', 4.168746), ('value', 4.059793), ('value', 4.228442), ('value', 4.116879), ('value', 4.236576), ('value', 4.12372), ('value', 4.239743), ('value', 4.116371), ('value', 4.233319), ('value', 4.118807), ('value', 4.22471), ('value', 4.126568), ('value', 4.214624), ('value', 4.13371), ('value', 4.210839), ('value', 4.138536), ('value', 4.206464), ('value', 4.144513), ('value', 4.196152), ('value', 4.160118), ('value', 4.184694), ('value', 4.170731), ('value', 4.17589), ('value', 4.180389), ('value', 4.163598), ('value', 4.192388), ('value', 4.152565), ('value', 4.200942), ('value', 4.139592), ('value', 4.213054), ('value', 4.130632), ('value', 4.222676), ('value', 4.113075), ('value', 4.237426), ('value', 4.123089), ('value', 4.234217), ('value', 4.130232), ('value', 4.200145), ('value', 4.164009), ('value', 4.156237), ('value', 4.205211), ('value', 4.114953), ('value', 4.186629), ('value', 1.421198), ('value', 1.138412), ('value', 0.912961), ('value', 0.892833), ('value', 0.91109), ('value', 0.896647), ('value', 1.201278), ('value', 1.120403), ('value', 1.101696), ('value', 1.124775), ('value', 1.103477), ('value', 0.972125), ('value', 0.913815), ('value', 0.890891), ('value', 0.904183), ('value', 1.15327), ('value', 1.124805), ('value', 2.570727), ('value', 4.194107), ('value', 4.160887), ('value', 4.200197), ('value', 4.073182), ('value', 4.146783), ('value', 4.11599), ('value', 4.059693), ('value', 4.17265), ('value', 4.063478), ('value', 4.141593), ('value', 4.099413), ('value', 4.055626), ('value', 4.152996), ('value', 4.057083), ('value', 4.140955), ('value', 4.142906), ('value', 4.069594), ('value', 4.167524), ('value', 4.069792), ('value', 4.117256), ('value', 4.129787), ('value', 4.059176), ('value', 4.163777), ('value', 4.061235), ('value', 4.143653), ('value', 4.094412), ('value', 4.102306), ('value', 4.119015), ('value', 4.084231), ('value', 4.141557), ('value', 4.070067), ('value', 4.154335), ('value', 4.062319), ('value', 4.172669), ('value', 4.057019), ('value', 4.171834), ('value', 4.060136), ('value', 4.167442), ('value', 4.05938), ('value', 4.15234), ('value', 4.06794), ('value', 4.144205), ('value', 4.074034), ('value', 4.127748), ('value', 4.095359), ('value', 4.115464), ('value', 4.097463), ('value', 4.102701), ('value', 4.127094), ('value', 4.079176), ('value', 3.682914), ('value', 3.159867), ('value', 3.234957), ('value', 3.160098), ('value', 3.251935), ('value', 3.154304), ('value', 3.230796), ('value', 3.184917), ('value', 3.194846), ('value', 3.221789), ('value', 3.159436), ('value', 3.242307), ('value', 3.157354), ('value', 3.230891), ('value', 3.182073), ('value', 3.200334), ('value', 3.206858), ('value', 3.175372), ('value', 3.236451), ('value', 3.152533), ('value', 3.239009), ('value', 3.162489), ('value', 3.206563), ('value', 3.200246), ('value', 3.163031), ('value', 3.239666), ('value', 3.159353), ('value', 3.207351), ('value', 3.21236), ('value', 3.159939), ('value', 3.238287), ('value', 3.176886), ('value', 3.181915), ('value', 3.238803), ('value', 3.159374), ('value', 3.212912), ('value', 3.213544), ('value', 3.162431), ('value', 3.235227), ('value', 3.187398), ('value', 3.174409), ('value', 3.237049), ('value', 3.166874), ('value', 3.215753), ('value', 3.223089), ('value', 3.167777), ('value', 3.233294), ('value', 3.18755), ('value', 3.182882), ('value', 3.233847), ('value', 3.156103), ('value', 3.14973), ('value', 3.150904), ('value', 3.102064), ('value', 3.193633), ('value', 3.153244), ('value', 3.108171), ('value', 3.176892), ('value', 3.113545), ('value', 3.121239), ('value', 3.169612), ('value', 3.098151), ('value', 3.145181), ('value', 3.156578), ('value', 3.097631), ('value', 3.168706), ('value', 3.120008), ('value', 3.107641), ('value', 3.142305), ('value', 3.09697), ('value', 3.165733), ('value', 3.125111), ('value', 3.105452), ('value', 3.169863), ('value', 3.119694), ('value', 3.118443), ('value', 3.168452), ('value', 3.102693), ('value', 3.137518), ('value', 3.158324), ('value', 3.09068), ('value', 3.158948), ('value', 3.135116), ('value', 3.101342), ('value', 3.174076), ('value', 3.093042), ('value', 3.159158), ('value', 3.124523), ('value', 3.115212), ('value', 3.163998), ('value', 3.088855), ('value', 3.160404), ('value', 3.075188), ('value', 3.107397), ('value', 3.118777), ('value', 3.066783), ('value', 3.147522), ('value', 3.065484), ('value', 3.126535), ('value', 3.101988), ('value', 3.084153), ('value', 3.139829), ('value', 3.060624), ('value', 3.141934), ('value', 3.082148), ('value', 3.096625), ('value', 3.057065), ('value', 2.978567), ('value', 3.058773), ('value', 2.99308), ('value', 3.015668), ('value', 3.040011), ('value', 2.983123), ('value', 3.059541), ('value', 3.009762), ('value', 3.000447), ('value', 3.057266), ('value', 2.985648), ('value', 3.015387), ('value', 3.044132), ('value', 2.98068), ('value', 3.038407), ('value', 3.022915), ('value', 2.987267), ('value', 3.044142), ('value', 2.95365), ('value', 2.959769), ('value', 3.007363), ('value', 2.957186), ('value', 2.950634), ('value', 3.009114), ('value', 2.943991), ('value', 2.972065), ('value', 2.999484), ('value', 2.931994), ('value', 2.99998), ('value', 2.964601), ('value', 2.948599), ('value', 3.006564), ('value', 2.941392), ('value', 2.990551), ('value', 2.993984), ('value', 2.947225), ('value', 3.017071), ('value', 2.962994), ('value', 2.968885), ('value', 3.014336), ('value', 2.943155), ('value', 3.006974), ('value', 2.975142), ('value', 2.952536), ('value', 3.017809), ('value', 2.948608), ('value', 2.975602), ('value', 2.99581), ('value', 2.928123), ('value', 2.976674), ('value', 2.987555), ('value', 2.932622), ('value', 2.978661), ('value', 2.987198), ('value', 2.932647), ('value', 2.979161), ('value', 2.993755), ('value', 2.934768), ('value', 2.978119), ('value', 2.993943), ('value', 2.932727), ('value', 2.98616), ('value', 2.988662), ('value', 2.933153), ('value', 2.99515), ('value', 2.957446), ('value', 2.923139), ('value', 2.984621), ('value', 2.948744), ('value', 2.927599), ('value', 2.988612), ('value', 2.943125), ('value', 2.932268), ('value', 2.989796), ('value', 2.937683), ('value', 2.938904), ('value', 2.988627), ('value', 2.927617), ('value', 2.947258), ('value', 2.989155), ('value', 2.924092), ('value', 0.082692), ('value', 0.081166), ('value', 0.082827), ('value', 0.081091), ('value', 0.083147), ('value', 0.080808), ('value', 0.083281), ('value', 0.080716), ('value', 0.082895), ('value', 0.080643), ('value', 0.082292), ('value', 0.081002), ('value', 0.082435), ('value', 0.081422), ('value', 0.082341), ('value', 0.081686), ('value', 0.08207), ('value', 0.082205), ('value', 0.082053), ('value', 0.082767), ('value', 0.081669), ('value', 0.083283), ('value', 0.081474), ('value', 0.083415), ('value', 0.081143), ('value', 0.083609), ('value', 0.081139), ('value', 0.082639), ('value', 0.082642), ('value', 0.081737), ('value', 0.083528), ('value', 0.081152), ('value', 0.083391), ('value', 0.081136), ('value', 0.082634), ('value', 0.081818), ('value', 0.081502), ('value', 0.082453), ('value', 0.080385), ('value', 0.082839), ('value', 0.080717), ('value', 0.082947), ('value', 0.081147), ('value', 0.082363), ('value', 0.081784), ('value', 0.08175), ('value', 0.082726), ('value', 0.081096), ('value', 0.083123), ('value', 0.080755), ('value', 0.083191), ('value', 0.080843), ('value', 0.082969), ('value', 0.081186), ('value', 0.082453), ('value', 0.081841), ('value', 0.081771), ('value', 0.082652), ('value', 0.081048), ('value', 0.083089), ('value', 0.080853), ('value', 0.083145), ('value', 0.080874), ('value', 0.082879), ('value', 0.081436), ('value', 0.082004), ('value', 0.08187), ('value', 0.081279), ('value', 0.081966), ('value', 0.081066), ('value', 0.082311), ('value', 0.08069), ('value', 0.082572), ('value', 0.08047), ('value', 0.082331), ('value', 0.081206), ('value', 0.083025), ('value', 0.081059), ('value', 0.083015), ('value', 0.081267), ('value', 0.082833), ('value', 0.082286), ('value', 0.082399), ('value', 0.082922), ('value', 0.081738), ('value', 0.08352), ('value', 0.081296), ('value', 0.083592), ('value', 0.081573), ('value', 0.083175), ('value', 0.082316), ('value', 0.082307), ('value', 0.083023), ('value', 0.081729), ('value', 0.083498), ('value', 0.08103), ('value', 0.083316), ('value', 0.081173), ('value', 0.08307), ('value', 0.081744), ('value', 0.082425), ('value', 0.082091), ('value', 0.08205), ('value', 0.082428), ('value', 0.082224), ('value', 0.083209), ('value', 0.082031), ('value', 0.083305), ('value', 0.082006), ('value', 0.083342), ('value', 0.081669), ('value', 0.082983), ('value', 0.081562), ('value', 0.082795), ('value', 0.081427), ('value', 0.082556), ('value', 0.081252), ('value', 0.082508), ('value', 0.081036), ('value', 0.082584), ('value', 0.08107), ('value', 0.08291), ('value', 0.081432), ('value', 0.08295), ('value', 0.081061), ('value', 0.082762), ('value', 0.081044), ('value', 0.082601), ('value', 0.080723), ('value', 0.082751), ('value', 0.080491), ('value', 0.082905), ('value', 0.080497), ('value', 0.083267), ('value', 0.08078), ('value', 0.083166), ('value', 0.080725), ('value', 0.083119), ('value', 0.081003), ('value', 0.083556), ('value', 0.081149), ('value', 0.083428), ('value', 0.081001), ('value', 0.083397), ('value', 0.081166), ('value', 0.083433), ('value', 0.08122), ('value', 0.081309), ('value', 0.083247), ('value', 0.081304), ('value', 0.083227), ('value', 0.081456), ('value', 0.082974), ('value', 0.081294), ('value', 0.082284), ('value', 0.081444), ('value', 0.081501), ('value', 0.081903), ('value', 0.080797), ('value', 0.08247), ('value', 0.080298), ('value', 0.082894), ('value', 0.080952), ('value', 0.083284), ('value', 0.081649), ('value', 0.082568), ('value', 0.082416), ('value', 0.081864), ('value', 0.082886), ('value', 0.081509), ('value', 0.083101), ('value', 0.081051), ('value', 0.083116), ('value', 0.080519), ('value', 0.082858), ('value', 0.08033), ('value', 0.08267), ('value', 0.080607), ('value', 0.082361), ('value', 0.080848), ('value', 0.081807), ('value', 0.081455), ('value', 0.080533), ('value', 0.081495), ('value', 0.079821), ('value', 0.081915), ('value', 0.079633), ('value', 0.08189), ('value', 0.080273), ('value', 0.081026), ('value', 0.081453), ('value', 0.080309), ('value', 0.082396), ('value', 0.080279), ('value', 0.081682), ('value', 0.081203), ('value', 0.080041), ('value', 0.081846), ('value', 0.079744), ('value', 0.081486), ('value', 0.08053), ('value', 0.080617), ('value', 0.08208), ('value', 0.08015), ('value', 0.082437), ('value', 0.080522), ('value', 0.082324), ('value', 0.081376), ('value', 0.081363), ('value', 0.082195), ('value', 0.080485), ('value', 0.082387), ('value', 0.080047), ('value', 0.082439), ('value', 0.0802), ('value', 0.082183), ('value', 0.080646), ('value', 0.081763), ('value', 0.081051), ('value', 0.081551), ('value', 0.081927), ('value', 0.081327), ('value', 0.082387), ('value', 0.080628), ('value', 0.082744), ('value', 0.080479), ('value', 0.082834), ('value', 0.080371), ('value', 0.082677), ('value', 0.080415), ('value', 0.082279), ('value', 0.08106), ('value', 0.081453), ('value', 0.082099), ('value', 0.080481), ('value', 0.082634), ('value', 0.080416), ('value', 0.081124), ('value', 0.081185), ('value', 0.079511), ('value', 0.081297), ('value', 0.079879), ('value', 0.079949), ('value', 0.081265), ('value', 0.079625), ('value', 0.081489), ('value', 0.080533), ('value', 0.080199), ('value', 0.082048), ('value', 0.079971), ('value', 0.082181), ('value', 0.080486), ('value', 0.081409), ('value', 0.081196), ('value', 0.080468), ('value', 0.081994), ('value', 0.079926), ('value', 0.082154), ('value', 0.080233), ('value', 0.081436), ('value', 0.081335), ('value', 0.080272), ('value', 0.082168), ('value', 0.080065), ('value', 0.081637), ('value', 0.081633), ('value', 0.08056), ('value', 0.082525), ('value', 0.080139), ('value', 0.08162), ('value', 0.081168), ('value', 0.080166), ('value', 0.082086), ('value', 0.080134), ('value', 0.081435), ('value', 0.081373), ('value', 0.080081), ('value', 0.082381), ('value', 0.080204), ('value', 0.082107), ('value', 0.080784), ('value', 0.081071), ('value', 0.081825), ('value', 0.080156), ('value', 0.08222), ('value', 0.080133), ('value', 0.082006), ('value', 0.081018), ('value', 0.081339), ('value', 0.081628), ('value', 0.080674), ('value', 0.082151), ('value', 0.080336), ('value', 0.082478), ('value', 0.080232), ('value', 0.082375), ('value', 0.080048), ('value', 0.082282), ('value', 0.079742), ('value', 0.082155), ('value', 0.079364), ('value', 0.081731), ('value', 0.079354), ('value', 0.081773), ('value', 0.079367), ('value', 0.0818), ('value', 0.079762), ('value', 0.082061), ('value', 0.07985), ('value', 0.081963), ('value', 0.079928), ('value', 0.08194), ('value', 0.079868), ('value', 0.081912), ('value', 0.079909), ('value', 0.081796), ('value', 0.079878), ('value', 0.081811), ('value', 0.079891), ('value', 0.081848), ('value', 0.079952), ('value', 0.081762), ('value', 0.079906), ('value', 0.081776), ('value', 0.079883), ('value', 0.081696), ('value', 0.080001), ('value', 0.081846), ('value', 0.07995), ('value', 0.082084), ('value', 0.080105), ('value', 0.081705), ('value', 0.080569), ('value', 0.081334), ('value', 0.081236), ('value', 0.081002), ('value', 0.082333), ('value', 0.080311), ('value', 0.082678), ('value', 0.080432), ('value', 0.082135), ('value', 0.081464), ('value', 0.080763), ('value', 0.08245), ('value', 0.080418), ('value', 0.082184), ('value', 0.081387), ('value', 0.080846), ('value', 0.08244), ('value', 0.080357), ('value', 0.082185), ('value', 0.081443), ('value', 0.080611), ('value', 0.082436), ('value', 0.08031), ('value', 0.08144), ('value', 0.081581), ('value', 0.080121), ('value', 0.081923), ('value', 0.080366), ('value', 0.080716), ('value', 0.081833), ('value', 0.080267), ('value', 0.082062), ('value', 0.080086), ('value', 0.081191), ('value', 0.081522), ('value', 0.080153), ('value', 0.08221), ('value', 0.080152), ('value', 0.081535), ('value', 0.08127), ('value', 0.080233), ('value', 0.082229), ('value', 0.080067), ('value', 0.081722), ('value', 0.081162), ('value', 0.080576), ('value', 0.082175), ('value', 0.080041), ('value', 0.082211), ('value', 0.080497), ('value', 0.081676), ('value', 0.081274), ('value', 0.081101), ('value', 0.081794), ('value', 0.080721), ('value', 0.082005), ('value', 0.080382), ('value', 0.08223), ('value', 0.080154), ('value', 0.082834), ('value', 0.080536), ('value', 0.082803), ('value', 0.08047), ('value', 0.082897), ('value', 0.080417), ('value', 0.082914), ('value', 0.080429), ('value', 0.082597), ('value', 0.080202), ('value', 0.08263), ('value', 0.080244), ('value', 0.082461), ('value', 0.08032), ('value', 0.082323), ('value', 0.080701), ('value', 0.082364), ('value', 0.081006), ('value', 0.08191), ('value', 0.081389), ('value', 0.081338), ('value', 0.081928), ('value', 0.080615), ('value', 0.082415), ('value', 0.080237), ('value', 0.082517), ('value', 0.080425), ('value', 0.082377), ('value', 0.081479), ('value', 0.081776), ('value', 0.082128), ('value', 0.081054), ('value', 0.082718), ('value', 0.080595), ('value', 0.0829), ('value', 0.080327), ('value', 0.082337), ('value', 0.080664), ('value', 0.081493), ('value', 0.081544), ('value', 0.080348), ('value', 0.082329), ('value', 0.080005), ('value', 0.081433), ('value', 0.081099), ('value', 0.080019), ('value', 0.081954), ('value', 0.080086), ('value', 0.081011), ('value', 0.081273), ('value', 0.07959), ('value', 0.08196), ('value', 0.08072), ('value', 0.080594), ('value', 0.082045), ('value', 0.080152), ('value', 0.081401), ('value', 0.082004), ('value', 0.080293), ('value', 0.082365), ('value', 0.080858), ('value', 0.081186), ('value', 0.082132), ('value', 0.08061), ('value', 0.082795), ('value', 0.081455), ('value', 0.081368), ('value', 0.082747), ('value', 0.0807), ('value', 0.082274), ('value', 0.081962), ('value', 0.080552), ('value', 0.082423), ('value', 0.080896), ('value', 0.080714), ('value', 0.082295), ('value', 0.080396), ('value', 0.082012), ('value', 0.081695), ('value', 0.080483), ('value', 0.082881), ('value', 0.081185), ('value', 0.081972), ('value', 0.083037), ('value', 0.081021), ('value', 0.08267), ('value', 0.082471), ('value', 0.081152), ('value', 0.083043), ('value', 0.081887), ('value', 0.081192), ('value', 0.082812), ('value', 0.080933), ('value', 0.081537), ('value', 0.082375), ('value', 0.080533), ('value', 0.082363), ('value', 0.082171), ('value', 0.080721), ('value', 0.082743), ('value', 0.080315), ('value', 0.081856), ('value', 0.081297), ('value', 0.080727), ('value', 0.082226), ('value', 0.080108), ('value', 0.082224), ('value', 0.080276), ('value', 0.081787), ('value', 0.081492), ('value', 0.081058), ('value', 0.082441), ('value', 0.080415), ('value', 0.082663), ('value', 0.080626), ('value', 0.082129), ('value', 0.082128), ('value', 0.080616), ('value', 0.082749), ('value', 0.080503), ('value', 0.082256), ('value', 0.081274), ('value', 0.081125), ('value', 0.082421), ('value', 0.080359), ('value', 0.082543), ('value', 0.081201), ('value', 0.081608), ('value', 0.082557), ('value', 0.080352), ('value', 0.082296), ('value', 0.081062), ('value', 0.080701), ('value', 0.082275), ('value', 0.080501), ('value', 0.081421), ('value', 0.081924), ('value', 0.080254), ('value', 0.082824), ('value', 0.081774), ('value', 0.081248), ('value', 0.083008), ('value', 0.081094), ('value', 0.081821), ('value', 0.082612), ('value', 0.080789), ('value', 0.082616), ('value', 0.082151), ('value', 0.080986), ('value', 0.083003), ('value', 0.081315), ('value', 0.081866), ('value', 0.082613), ('value', 0.080721), ('value', 0.08283), ('value', 0.081299), ('value', 0.081586), ('value', 0.082448), ('value', 0.080227), ('value', 0.082162), ('value', 0.081066), ('value', 0.080561), ('value', 0.081869), ('value', 0.079837), ('value', 0.081726), ('value', 0.080629), ('value', 0.080489), ('value', 0.082176), ('value', 0.080162), ('value', 0.081918), ('value', 0.081515), ('value', 0.080092), ('value', 0.081917), ('value', 0.080876), ('value', 0.080247), ('value', 0.082023), ('value', 0.081616), ('value', 0.081421), ('value', 0.080055), ('value', 0.082048), ('value', 0.081373), ('value', 0.080346), ('value', 0.082128), ('value', 0.080949), ('value', 0.080536), ('value', 0.082161), ('value', 0.080334), ('value', 0.080675), ('value', 0.081627), ('value', 0.080073), ('value', 0.081577), ('value', 0.081788), ('value', 0.080203), ('value', 0.081831), ('value', 0.08149), ('value', 0.080386), ('value', 0.082478), ('value', 0.081375), ('value', 0.080933), ('value', 0.08267), ('value', 0.08097), ('value', 0.081376), ('value', 0.08251), ('value', 0.0806)]\n"
     ]
    }
   ],
   "source": [
    "# code to read data from influxdb\n",
    "\n",
    "# variables\n",
    "bucket = \"random\"\n",
    "org = \"Empati Limited\"\n",
    "token = secret.api_key\n",
    "# Store the URL of your InfluxDB instance\n",
    "url=\"https://eu-central-1-1.aws.cloud2.influxdata.com/\"\n",
    "\n",
    "# instantiate the client\n",
    "client = influxdb_client.InfluxDBClient(\n",
    "   url=url,\n",
    "   token=token,\n",
    "   org=org\n",
    ")\n",
    "\n",
    "# instantiate the query client\n",
    "query_api = client.query_api()\n",
    "\n",
    "# query written in InfluxQL\n",
    "query = 'from(bucket:\"random\")\\\n",
    "|> range(start: -10m)\\\n",
    "|> filter(fn:(r) => r._measurement == \"Power\")\\\n",
    "|> filter(fn:(r) => r._field == \"value\")'\n",
    "\n",
    "# submit the query\n",
    "result = query_api.query(org=org, query=query)\n",
    "\n",
    "results = []\n",
    "for table in result:\n",
    "    for record in table.records:\n",
    "        results.append((record.get_field(), record.get_value()))\n",
    "\n",
    "print(results)"
   ]
  },
  {
   "cell_type": "code",
   "execution_count": 28,
   "metadata": {},
   "outputs": [],
   "source": [
    "# separate the result into time, appliance and power\n",
    "\n",
    "old_results = []\n",
    "new_results = []\n",
    "for table in result:\n",
    "    for record in table.records:\n",
    "        if record.values['appliance'] == 'OLD':\n",
    "            old_results.append((record.values['_time'], record.values['_value']))\n",
    "        else:\n",
    "            new_results.append((record.values['_time'], record.values['_value']))\n",
    "\n",
    "# put the results into a dataframe\n",
    "old_df = pd.DataFrame(old_results, columns=['time', 'power'])\n",
    "new_df = pd.DataFrame(new_results, columns=['time', 'power'])\n",
    "\n"
   ]
  },
  {
   "cell_type": "code",
   "execution_count": 30,
   "metadata": {},
   "outputs": [],
   "source": [
    "old_df['datetime'] = pd.to_datetime(old_df['time'])\n",
    "old_df['power'] = pd.to_numeric(old_df['power'])\n",
    "old_df = old_df.set_index('datetime')\n",
    "old_df = old_df.drop(columns=['time'])\n",
    "\n",
    "new_df['datetime'] = pd.to_datetime(new_df['time'])\n",
    "new_df['power'] = pd.to_numeric(new_df['power'])\n",
    "new_df = new_df.set_index('datetime')\n",
    "new_df = new_df.drop(columns=['time'])\n",
    "\n"
   ]
  },
  {
   "cell_type": "code",
   "execution_count": 31,
   "metadata": {},
   "outputs": [
    {
     "data": {
      "text/html": [
       "<div>\n",
       "<style scoped>\n",
       "    .dataframe tbody tr th:only-of-type {\n",
       "        vertical-align: middle;\n",
       "    }\n",
       "\n",
       "    .dataframe tbody tr th {\n",
       "        vertical-align: top;\n",
       "    }\n",
       "\n",
       "    .dataframe thead th {\n",
       "        text-align: right;\n",
       "    }\n",
       "</style>\n",
       "<table border=\"1\" class=\"dataframe\">\n",
       "  <thead>\n",
       "    <tr style=\"text-align: right;\">\n",
       "      <th></th>\n",
       "      <th>power</th>\n",
       "    </tr>\n",
       "    <tr>\n",
       "      <th>datetime</th>\n",
       "      <th></th>\n",
       "    </tr>\n",
       "  </thead>\n",
       "  <tbody>\n",
       "    <tr>\n",
       "      <th>2023-12-15 16:11:56+00:00</th>\n",
       "      <td>0.081779</td>\n",
       "    </tr>\n",
       "    <tr>\n",
       "      <th>2023-12-15 16:11:57+00:00</th>\n",
       "      <td>0.082310</td>\n",
       "    </tr>\n",
       "    <tr>\n",
       "      <th>2023-12-15 16:11:58+00:00</th>\n",
       "      <td>0.081101</td>\n",
       "    </tr>\n",
       "    <tr>\n",
       "      <th>2023-12-15 16:11:59+00:00</th>\n",
       "      <td>0.083104</td>\n",
       "    </tr>\n",
       "    <tr>\n",
       "      <th>2023-12-15 16:12:00+00:00</th>\n",
       "      <td>0.080626</td>\n",
       "    </tr>\n",
       "    <tr>\n",
       "      <th>...</th>\n",
       "      <td>...</td>\n",
       "    </tr>\n",
       "    <tr>\n",
       "      <th>2023-12-15 16:21:49+00:00</th>\n",
       "      <td>0.078911</td>\n",
       "    </tr>\n",
       "    <tr>\n",
       "      <th>2023-12-15 16:21:50+00:00</th>\n",
       "      <td>0.077853</td>\n",
       "    </tr>\n",
       "    <tr>\n",
       "      <th>2023-12-15 16:21:51+00:00</th>\n",
       "      <td>0.079068</td>\n",
       "    </tr>\n",
       "    <tr>\n",
       "      <th>2023-12-15 16:21:52+00:00</th>\n",
       "      <td>0.079560</td>\n",
       "    </tr>\n",
       "    <tr>\n",
       "      <th>2023-12-15 16:21:53+00:00</th>\n",
       "      <td>0.078327</td>\n",
       "    </tr>\n",
       "  </tbody>\n",
       "</table>\n",
       "<p>595 rows × 1 columns</p>\n",
       "</div>"
      ],
      "text/plain": [
       "                              power\n",
       "datetime                           \n",
       "2023-12-15 16:11:56+00:00  0.081779\n",
       "2023-12-15 16:11:57+00:00  0.082310\n",
       "2023-12-15 16:11:58+00:00  0.081101\n",
       "2023-12-15 16:11:59+00:00  0.083104\n",
       "2023-12-15 16:12:00+00:00  0.080626\n",
       "...                             ...\n",
       "2023-12-15 16:21:49+00:00  0.078911\n",
       "2023-12-15 16:21:50+00:00  0.077853\n",
       "2023-12-15 16:21:51+00:00  0.079068\n",
       "2023-12-15 16:21:52+00:00  0.079560\n",
       "2023-12-15 16:21:53+00:00  0.078327\n",
       "\n",
       "[595 rows x 1 columns]"
      ]
     },
     "execution_count": 31,
     "metadata": {},
     "output_type": "execute_result"
    }
   ],
   "source": [
    "old_df"
   ]
  },
  {
   "cell_type": "code",
   "execution_count": null,
   "metadata": {},
   "outputs": [],
   "source": [
    "# create function to call in the generation (OLD) data\n",
    "lookback = '10m'\n",
    "def get_generation_data(str: lookback):\n",
    "    \n"
   ]
  }
 ],
 "metadata": {
  "kernelspec": {
   "display_name": ".venv",
   "language": "python",
   "name": "python3"
  },
  "language_info": {
   "codemirror_mode": {
    "name": "ipython",
    "version": 3
   },
   "file_extension": ".py",
   "mimetype": "text/x-python",
   "name": "python",
   "nbconvert_exporter": "python",
   "pygments_lexer": "ipython3",
   "version": "3.11.1"
  }
 },
 "nbformat": 4,
 "nbformat_minor": 2
}
